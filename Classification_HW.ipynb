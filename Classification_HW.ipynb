{
 "cells": [
  {
   "cell_type": "markdown",
   "metadata": {
    "id": "view-in-github"
   },
   "source": [
    "<a href=\"https://colab.research.google.com/github/HSE-LAMBDA/MLDM-2022/blob/master/03-linear-classification/Classification_HW.ipynb\" target=\"_parent\"><img src=\"https://colab.research.google.com/assets/colab-badge.svg\" alt=\"Open In Colab\"/></a>"
   ]
  },
  {
   "cell_type": "markdown",
   "metadata": {
    "id": "p_YurH8cw4Uz"
   },
   "source": [
    "## Москвичева Полина, мИИПИ20-2022"
   ]
  },
  {
   "cell_type": "markdown",
   "metadata": {
    "id": "jsk47s-JzFMY"
   },
   "source": [
    "## Task 1 (2 points + 1 bonus point + 1 super-bonus point)"
   ]
  },
  {
   "cell_type": "markdown",
   "metadata": {
    "id": "_72sYvZSzO4B"
   },
   "source": [
    "(Titanic data again)\n",
    "\n",
    "Build a model with `sklearn`'s `LogisticRegression` to get the accuracy of at least 0.80 (0.82 for the bonus point, 0.85 for the super-bonus point) on the test set.\n",
    "\n",
    "Some (optional) suggestions:\n",
    "- Add new features (e.g. missing value indicator columns)\n",
    "- Fill missing values\n",
    "- Encode categorical features (e.g. one-hot encoding)\n",
    "- Scale the features (e.g. with standard or robust scaler)\n",
    "- Think of other ways of preprocessing the features (e.g. `Fare` $\\to$ `log(Fare)`)\n",
    "- Try adding polynomial features\n",
    "\n"
   ]
  },
  {
   "cell_type": "code",
   "execution_count": 1,
   "metadata": {
    "colab": {
     "base_uri": "https://localhost:8080/"
    },
    "id": "4CWHxPY62I-D",
    "outputId": "b2c38ebc-2e7f-49c3-f77b-e9e5fa1c8f0f"
   },
   "outputs": [
    {
     "name": "stdout",
     "output_type": "stream",
     "text": [
      "--2025-03-16 17:31:07--  https://raw.githubusercontent.com/HSE-LAMBDA/MLDM-2022/main/01-intro/train.csv\n",
      "Resolving raw.githubusercontent.com (raw.githubusercontent.com)... 2606:50c0:8002::154, 2606:50c0:8001::154, 2606:50c0:8003::154, ...\n",
      "Connecting to raw.githubusercontent.com (raw.githubusercontent.com)|2606:50c0:8002::154|:443... connected.\n",
      "HTTP request sent, awaiting response... 200 OK\n",
      "Length: 60302 (59K) [text/plain]\n",
      "Saving to: 'train.csv'\n",
      "\n",
      "train.csv           100%[===================>]  58.89K  --.-KB/s    in 0.05s   \n",
      "\n",
      "2025-03-16 17:31:08 (1.16 MB/s) - 'train.csv' saved [60302/60302]\n",
      "\n"
     ]
    }
   ],
   "source": [
    "!wget https://raw.githubusercontent.com/HSE-LAMBDA/MLDM-2022/main/01-intro/train.csv"
   ]
  },
  {
   "cell_type": "code",
   "execution_count": 2,
   "metadata": {
    "colab": {
     "base_uri": "https://localhost:8080/",
     "height": 282
    },
    "id": "G36oVo3RJXVc",
    "outputId": "36777471-6e0f-4656-cda0-72632083ed6f"
   },
   "outputs": [
    {
     "data": {
      "text/html": [
       "<div>\n",
       "<style scoped>\n",
       "    .dataframe tbody tr th:only-of-type {\n",
       "        vertical-align: middle;\n",
       "    }\n",
       "\n",
       "    .dataframe tbody tr th {\n",
       "        vertical-align: top;\n",
       "    }\n",
       "\n",
       "    .dataframe thead th {\n",
       "        text-align: right;\n",
       "    }\n",
       "</style>\n",
       "<table border=\"1\" class=\"dataframe\">\n",
       "  <thead>\n",
       "    <tr style=\"text-align: right;\">\n",
       "      <th></th>\n",
       "      <th>Survived</th>\n",
       "      <th>Pclass</th>\n",
       "      <th>Name</th>\n",
       "      <th>Sex</th>\n",
       "      <th>Age</th>\n",
       "      <th>SibSp</th>\n",
       "      <th>Parch</th>\n",
       "      <th>Ticket</th>\n",
       "      <th>Fare</th>\n",
       "      <th>Cabin</th>\n",
       "      <th>Embarked</th>\n",
       "    </tr>\n",
       "    <tr>\n",
       "      <th>PassengerId</th>\n",
       "      <th></th>\n",
       "      <th></th>\n",
       "      <th></th>\n",
       "      <th></th>\n",
       "      <th></th>\n",
       "      <th></th>\n",
       "      <th></th>\n",
       "      <th></th>\n",
       "      <th></th>\n",
       "      <th></th>\n",
       "      <th></th>\n",
       "    </tr>\n",
       "  </thead>\n",
       "  <tbody>\n",
       "    <tr>\n",
       "      <th>1</th>\n",
       "      <td>0</td>\n",
       "      <td>3</td>\n",
       "      <td>Braund, Mr. Owen Harris</td>\n",
       "      <td>male</td>\n",
       "      <td>22.0</td>\n",
       "      <td>1</td>\n",
       "      <td>0</td>\n",
       "      <td>A/5 21171</td>\n",
       "      <td>7.2500</td>\n",
       "      <td>NaN</td>\n",
       "      <td>S</td>\n",
       "    </tr>\n",
       "    <tr>\n",
       "      <th>2</th>\n",
       "      <td>1</td>\n",
       "      <td>1</td>\n",
       "      <td>Cumings, Mrs. John Bradley (Florence Briggs Th...</td>\n",
       "      <td>female</td>\n",
       "      <td>38.0</td>\n",
       "      <td>1</td>\n",
       "      <td>0</td>\n",
       "      <td>PC 17599</td>\n",
       "      <td>71.2833</td>\n",
       "      <td>C85</td>\n",
       "      <td>C</td>\n",
       "    </tr>\n",
       "    <tr>\n",
       "      <th>3</th>\n",
       "      <td>1</td>\n",
       "      <td>3</td>\n",
       "      <td>Heikkinen, Miss. Laina</td>\n",
       "      <td>female</td>\n",
       "      <td>26.0</td>\n",
       "      <td>0</td>\n",
       "      <td>0</td>\n",
       "      <td>STON/O2. 3101282</td>\n",
       "      <td>7.9250</td>\n",
       "      <td>NaN</td>\n",
       "      <td>S</td>\n",
       "    </tr>\n",
       "    <tr>\n",
       "      <th>4</th>\n",
       "      <td>1</td>\n",
       "      <td>1</td>\n",
       "      <td>Futrelle, Mrs. Jacques Heath (Lily May Peel)</td>\n",
       "      <td>female</td>\n",
       "      <td>35.0</td>\n",
       "      <td>1</td>\n",
       "      <td>0</td>\n",
       "      <td>113803</td>\n",
       "      <td>53.1000</td>\n",
       "      <td>C123</td>\n",
       "      <td>S</td>\n",
       "    </tr>\n",
       "    <tr>\n",
       "      <th>5</th>\n",
       "      <td>0</td>\n",
       "      <td>3</td>\n",
       "      <td>Allen, Mr. William Henry</td>\n",
       "      <td>male</td>\n",
       "      <td>35.0</td>\n",
       "      <td>0</td>\n",
       "      <td>0</td>\n",
       "      <td>373450</td>\n",
       "      <td>8.0500</td>\n",
       "      <td>NaN</td>\n",
       "      <td>S</td>\n",
       "    </tr>\n",
       "  </tbody>\n",
       "</table>\n",
       "</div>"
      ],
      "text/plain": [
       "             Survived  Pclass  \\\n",
       "PassengerId                     \n",
       "1                   0       3   \n",
       "2                   1       1   \n",
       "3                   1       3   \n",
       "4                   1       1   \n",
       "5                   0       3   \n",
       "\n",
       "                                                          Name     Sex   Age  \\\n",
       "PassengerId                                                                    \n",
       "1                                      Braund, Mr. Owen Harris    male  22.0   \n",
       "2            Cumings, Mrs. John Bradley (Florence Briggs Th...  female  38.0   \n",
       "3                                       Heikkinen, Miss. Laina  female  26.0   \n",
       "4                 Futrelle, Mrs. Jacques Heath (Lily May Peel)  female  35.0   \n",
       "5                                     Allen, Mr. William Henry    male  35.0   \n",
       "\n",
       "             SibSp  Parch            Ticket     Fare Cabin Embarked  \n",
       "PassengerId                                                          \n",
       "1                1      0         A/5 21171   7.2500   NaN        S  \n",
       "2                1      0          PC 17599  71.2833   C85        C  \n",
       "3                0      0  STON/O2. 3101282   7.9250   NaN        S  \n",
       "4                1      0            113803  53.1000  C123        S  \n",
       "5                0      0            373450   8.0500   NaN        S  "
      ]
     },
     "execution_count": 2,
     "metadata": {},
     "output_type": "execute_result"
    }
   ],
   "source": [
    "import pandas as pd\n",
    "import numpy as np\n",
    "data = pd.read_csv(\"train.csv\", index_col='PassengerId')\n",
    "data.head()"
   ]
  },
  {
   "cell_type": "code",
   "execution_count": 3,
   "metadata": {
    "colab": {
     "base_uri": "https://localhost:8080/"
    },
    "id": "9hOTbfUrug7J",
    "outputId": "d54dd864-d26b-487c-afc1-9a4124a2cd71"
   },
   "outputs": [
    {
     "data": {
      "text/plain": [
       "Index(['Survived', 'Pclass', 'Name', 'Sex', 'Age', 'SibSp', 'Parch', 'Ticket',\n",
       "       'Fare', 'Cabin', 'Embarked'],\n",
       "      dtype='object')"
      ]
     },
     "execution_count": 3,
     "metadata": {},
     "output_type": "execute_result"
    }
   ],
   "source": [
    "data.shape\n",
    "data.columns"
   ]
  },
  {
   "cell_type": "markdown",
   "metadata": {
    "id": "EDHw3sHgJXVj"
   },
   "source": [
    "#### About the data\n",
    "Here's some of the columns\n",
    "* Name - a string with person's full name\n",
    "* Survived - 1 if a person survived the shipwreck, 0 otherwise.\n",
    "* Pclass - passenger class. Pclass == 3 is cheap'n'cheerful, Pclass == 1 is for moneybags.\n",
    "* Sex - a person's gender\n",
    "* Age - age in years, if available\n",
    "* SibSp - number of siblings on a ship\n",
    "* Parch - number of parents on a ship\n",
    "* Fare - ticket cost\n",
    "* Embarked - port where the passenger embarked\n",
    " * C = Cherbourg; Q = Queenstown; S = Southampton"
   ]
  },
  {
   "cell_type": "code",
   "execution_count": 4,
   "metadata": {
    "colab": {
     "base_uri": "https://localhost:8080/"
    },
    "id": "8e4vqHfql97h",
    "outputId": "1f18b49a-f5a8-4957-fa2a-42e6f78d8d64"
   },
   "outputs": [
    {
     "name": "stdout",
     "output_type": "stream",
     "text": [
      "True\n",
      "False\n",
      "False\n",
      "False\n",
      "False\n",
      "False\n",
      "False\n",
      "True\n",
      "             Survived  Pclass                              Name   Sex   Age  \\\n",
      "PassengerId                                                                   \n",
      "180                 0       3               Leonard, Mr. Lionel  male  36.0   \n",
      "264                 0       1             Harrison, Mr. William  male  40.0   \n",
      "272                 1       3      Tornquist, Mr. William Henry  male  25.0   \n",
      "278                 0       2       Parkes, Mr. Francis \"Frank\"  male   NaN   \n",
      "303                 0       3   Johnson, Mr. William Cahoone Jr  male  19.0   \n",
      "414                 0       2    Cunningham, Mr. Alfred Fleming  male   NaN   \n",
      "467                 0       2             Campbell, Mr. William  male   NaN   \n",
      "482                 0       2  Frost, Mr. Anthony Wood \"Archie\"  male   NaN   \n",
      "598                 0       3               Johnson, Mr. Alfred  male  49.0   \n",
      "634                 0       1     Parr, Mr. William Henry Marsh  male   NaN   \n",
      "675                 0       2        Watson, Mr. Ennis Hastings  male   NaN   \n",
      "733                 0       2              Knight, Mr. Robert J  male   NaN   \n",
      "807                 0       1            Andrews, Mr. Thomas Jr  male  39.0   \n",
      "816                 0       1                  Fry, Mr. Richard  male   NaN   \n",
      "823                 0       1   Reuchlin, Jonkheer. John George  male  38.0   \n",
      "\n",
      "             SibSp  Parch  Ticket  Fare Cabin Embarked  \n",
      "PassengerId                                             \n",
      "180              0      0    LINE   0.0   NaN        S  \n",
      "264              0      0  112059   0.0   B94        S  \n",
      "272              0      0    LINE   0.0   NaN        S  \n",
      "278              0      0  239853   0.0   NaN        S  \n",
      "303              0      0    LINE   0.0   NaN        S  \n",
      "414              0      0  239853   0.0   NaN        S  \n",
      "467              0      0  239853   0.0   NaN        S  \n",
      "482              0      0  239854   0.0   NaN        S  \n",
      "598              0      0    LINE   0.0   NaN        S  \n",
      "634              0      0  112052   0.0   NaN        S  \n",
      "675              0      0  239856   0.0   NaN        S  \n",
      "733              0      0  239855   0.0   NaN        S  \n",
      "807              0      0  112050   0.0   A36        S  \n",
      "816              0      0  112058   0.0  B102        S  \n",
      "823              0      0   19972   0.0   NaN        S  \n"
     ]
    }
   ],
   "source": [
    "# check NaNs\n",
    "print(data[('Age')].isnull().values.any())\n",
    "print(data[('Survived')].isnull().values.any())\n",
    "print(data[('Pclass')].isnull().values.any())\n",
    "print(data[('Sex')].isnull().values.any())\n",
    "print(data[('SibSp')].isnull().values.any())\n",
    "print(data[('Parch')].isnull().values.any())\n",
    "print(data[('Fare')].isnull().values.any())\n",
    "print(data[('Embarked')].isnull().values.any())\n",
    "\n",
    "\n",
    "print(data[data.Fare == 0])"
   ]
  },
  {
   "cell_type": "code",
   "execution_count": 5,
   "metadata": {
    "colab": {
     "base_uri": "https://localhost:8080/"
    },
    "id": "QmKB8DEjvPAb",
    "outputId": "86c2c294-88bd-4a93-ce72-07ec34a75b3a"
   },
   "outputs": [
    {
     "name": "stdout",
     "output_type": "stream",
     "text": [
      "False\n"
     ]
    }
   ],
   "source": [
    "from numpy import NaN\n",
    "data['Age'] = data['Age'].fillna(value=data['Age'].mean())\n",
    "#since we can't recover broken embarked type let's drop lines with nan here\n",
    "data = data[data['Embarked'].notna()]\n",
    "print(data[('Embarked')].isnull().values.any())"
   ]
  },
  {
   "cell_type": "code",
   "execution_count": null,
   "metadata": {
    "id": "Zv7-KfCQ0AjC"
   },
   "outputs": [],
   "source": [
    "# encoded_embarked = pd.get_dummies(data['Embarked'])\n",
    "# data = data.join(encoded_embarked).drop('Embarked', axis=1)"
   ]
  },
  {
   "cell_type": "code",
   "execution_count": 7,
   "metadata": {
    "colab": {
     "base_uri": "https://localhost:8080/"
    },
    "id": "xhb45c3NzHAU",
    "outputId": "1c36b61a-bead-4e6d-c427-115efb37c6d1"
   },
   "outputs": [
    {
     "name": "stdout",
     "output_type": "stream",
     "text": [
      "Train accuracy: 0.7959479015918958\n",
      "Test accuracy: 0.815\n"
     ]
    }
   ],
   "source": [
    "from sklearn.linear_model import LogisticRegression\n",
    "from sklearn.pipeline import make_pipeline\n",
    "from sklearn.compose import make_column_transformer\n",
    "from sklearn.preprocessing import StandardScaler, RobustScaler, PolynomialFeatures, OneHotEncoder\n",
    "from sklearn.metrics import accuracy_score\n",
    "from sklearn.model_selection import train_test_split\n",
    "\n",
    "def feature_selection_and_preprocessing(dataset):\n",
    "  features = dataset[[\"Fare\", \"SibSp\", \"Parch\", 'Pclass', 'Sex']].copy()\n",
    "  features[\"Age\"] = dataset.Age.fillna(dataset.Age.median())\n",
    "\n",
    "  features['Embarked'] = dataset.Embarked.fillna('unknown')\n",
    "\n",
    "  return features\n",
    "\n",
    "model = make_pipeline(\n",
    "    make_column_transformer(\n",
    "        (OneHotEncoder(sparse_output=False), ['Embarked', 'Sex']),\n",
    "        (StandardScaler(), ['Age','Fare']),\n",
    "        # (PolynomialFeatures(), ['Age',\"Fare\"]),\n",
    "        remainder='passthrough'\n",
    "    ),\n",
    "    LogisticRegression()\n",
    ")\n",
    "\n",
    "\n",
    "# Validation code (do not touch)\n",
    "data = pd.read_csv(\"train.csv\", index_col='PassengerId')\n",
    "data_train, data_test = train_test_split(data, test_size=200, random_state=42)\n",
    "\n",
    "model.fit(\n",
    "    feature_selection_and_preprocessing(\n",
    "        data_train.drop('Survived', axis=1)\n",
    "    ),\n",
    "    data_train['Survived']\n",
    ")\n",
    "\n",
    "train_predictions = model.predict(\n",
    "    feature_selection_and_preprocessing(\n",
    "        data_train.drop('Survived', axis=1)\n",
    "    )\n",
    ")\n",
    "\n",
    "test_predictions = model.predict(\n",
    "    feature_selection_and_preprocessing(\n",
    "        data_test.drop('Survived', axis=1)\n",
    "    )\n",
    ")\n",
    "\n",
    "print(\"Train accuracy:\", accuracy_score(\n",
    "    data_train['Survived'],\n",
    "    train_predictions\n",
    "))\n",
    "print(\"Test accuracy:\", accuracy_score(\n",
    "    data_test['Survived'],\n",
    "    test_predictions\n",
    "))"
   ]
  }
 ],
 "metadata": {
  "colab": {
   "collapsed_sections": [],
   "provenance": []
  },
  "kernelspec": {
   "display_name": "local-venv",
   "language": "python",
   "name": "local-venv"
  },
  "language_info": {
   "codemirror_mode": {
    "name": "ipython",
    "version": 3
   },
   "file_extension": ".py",
   "mimetype": "text/x-python",
   "name": "python",
   "nbconvert_exporter": "python",
   "pygments_lexer": "ipython3",
   "version": "3.12.0"
  }
 },
 "nbformat": 4,
 "nbformat_minor": 4
}
